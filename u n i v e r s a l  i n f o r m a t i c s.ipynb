{
 "cells": [
  {
   "metadata": {
    "collapsed": true,
    "trusted": false
   },
   "cell_type": "code",
   "source": "import langchain\nprint(langchain.__version__)",
   "execution_count": 1,
   "outputs": [
    {
     "output_type": "stream",
     "text": "0.3.23\n",
     "name": "stdout"
    }
   ]
  },
  {
   "metadata": {
    "trusted": false
   },
   "cell_type": "code",
   "source": "!pip freeze --exclude-editable > requirements.txt",
   "execution_count": 3,
   "outputs": [
    {
     "output_type": "stream",
     "text": " System commands are not supported in Juno (yet)\n",
     "name": "stderr"
    }
   ]
  },
  {
   "metadata": {
    "trusted": false
   },
   "cell_type": "code",
   "source": "!pip freeze --exclude-editable > requirements.txt",
   "execution_count": 5,
   "outputs": [
    {
     "output_type": "stream",
     "text": " System commands are not supported in Juno (yet)\n",
     "name": "stderr"
    }
   ]
  },
  {
   "metadata": {
    "trusted": true
   },
   "cell_type": "code",
   "source": "# List everything Juno has installed and write it to requirements.txt\nimport sys, pathlib\n\ntry:\n    import importlib.metadata as md  # Python ≥3.8\nexcept ImportError:\n    import importlib_metadata as md   # fallback if needed\n\nlines = sorted(f\"{d.metadata['Name']}=={d.version}\" for d in md.distributions())\ntext = \"\\n\".join(lines)\n\n# Save next to your notebook so Working Copy sees it\npathlib.Path(\"requirements.txt\").write_text(text)\n\nprint(\"Found\", len(lines), \"packages. requirements.txt saved.\")",
   "execution_count": 1,
   "outputs": [
    {
     "output_type": "stream",
     "text": "Found 173 packages. requirements.txt saved.\n",
     "name": "stdout"
    }
   ]
  }
 ],
 "metadata": {
  "kernelspec": {
   "name": "python3",
   "display_name": "Python 3",
   "language": "python"
  },
  "language_info": {
   "name": "python",
   "version": "3.10.4",
   "mimetype": "text/x-python",
   "codemirror_mode": {
    "name": "ipython",
    "version": 3
   },
   "pygments_lexer": "ipython3",
   "nbconvert_exporter": "python",
   "file_extension": ".py"
  }
 },
 "nbformat": 4,
 "nbformat_minor": 2
}